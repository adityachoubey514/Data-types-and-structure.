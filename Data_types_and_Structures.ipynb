{
  "nbformat": 4,
  "nbformat_minor": 0,
  "metadata": {
    "colab": {
      "provenance": []
    },
    "kernelspec": {
      "name": "python3",
      "display_name": "Python 3"
    },
    "language_info": {
      "name": "python"
    }
  },
  "cells": [
    {
      "cell_type": "markdown",
      "source": [
        "## Data Types and Structures..."
      ],
      "metadata": {
        "id": "rw7iPX5qO104"
      }
    },
    {
      "cell_type": "markdown",
      "source": [
        "# **\"THEORY QUESTION\"**"
      ],
      "metadata": {
        "id": "xaL_YvTjOxIO"
      }
    },
    {
      "cell_type": "markdown",
      "source": [
        "#1.  What are data structures, and why are they important?\n",
        "#-> Data structures are ways to organize and store data efficiently. They are important because they help in managing large amounts of data, optimizing operations like searching and sorting, and improving the performance of algorithms. They are used in various applications, from databases to operating systems, to make systems more effective and efficient."
      ],
      "metadata": {
        "id": "96mxRy_FRRa1"
      }
    },
    {
      "cell_type": "markdown",
      "source": [
        "#2. Explain the difference between mutable and immutable data types with examples?\n",
        "#->\" Mutable Data Types:\n",
        "\n",
        "1. Mutable data types are those that can be changed after they are\n",
        "created.\n",
        "\n",
        "2. Examples include lists, dictionaries, and sets in Python.\n",
        "\n",
        "3. For instance, you can add, remove, or modify elements in a list.\"\n",
        "\n",
        "\n",
        "Example:"
      ],
      "metadata": {
        "id": "zMhaiLsYR00_"
      }
    },
    {
      "cell_type": "code",
      "source": [
        "my_list = [1, 6, 0]\n",
        "my_list.append(9)  # Now my_list is [1, 6, 0, 9]\n"
      ],
      "metadata": {
        "colab": {
          "base_uri": "https://localhost:8080/"
        },
        "id": "dggmEuRaTfw2",
        "outputId": "a7425de4-4fa5-45db-e844-245e0e0d4480"
      },
      "execution_count": 15,
      "outputs": [
        {
          "output_type": "stream",
          "name": "stdout",
          "text": [
            "[1, 6, 0, 9]\n"
          ]
        }
      ]
    },
    {
      "cell_type": "markdown",
      "source": [
        "Immutable Data Types:\n",
        "\n",
        "1. Immutable data types are those that cannot be changed once they are created.\n",
        "\n",
        "2. Examples include strings, tuples, and integers in Python.\n",
        "\n",
        "3. If you want to change an immutable object, you have to create a new one.\n",
        "\n",
        "example:"
      ],
      "metadata": {
        "id": "lAyjeDaJUGxg"
      }
    },
    {
      "cell_type": "code",
      "source": [
        "my_string = \"hello\"\n",
        "new_string = my_string + \"guyz\" # my_string is still \"hello\", new_string is \"hello guyz\""
      ],
      "metadata": {
        "id": "_WG6IfVUSppj"
      },
      "execution_count": 10,
      "outputs": []
    },
    {
      "cell_type": "markdown",
      "source": [
        "#3. What are the main differences between lists and tuples in Python?\n",
        "#-> List:Mutable, defind with square brakets [ ] ,flexible and can be changed after creation.\n",
        "\n",
        "* Tuples:Immutable, defind with parenthese ( ) , faster and cannot be changed after creation."
      ],
      "metadata": {
        "id": "PkRo8ujMYVsk"
      }
    },
    {
      "cell_type": "code",
      "source": [
        "#Example of list:\n",
        "\n",
        "my_list = [1, 2, 4]\n",
        "my_list.append(9)\n",
        "# Now my_list is [1, 2, 4, 9]\n",
        "\n",
        "#Example of tuple:\n",
        "\n",
        "my_tuple = (1, 2, 4)\n",
        "my_tuple.append(9)\n",
        "#would raise to be an error because tuples are immutables"
      ],
      "metadata": {
        "id": "4DdbW6PngfeC"
      },
      "execution_count": 33,
      "outputs": []
    },
    {
      "cell_type": "markdown",
      "source": [
        "#4. Describe how dictionaries store data?\n",
        "#-> Dictionaries in Python store data as key-value pairs using a technique called hashing. This allows for fast access to values by computing a hash code for each key, which determines where the key-value pair is stored in the dictionary."
      ],
      "metadata": {
        "id": "Ix1MuONGjtoz"
      }
    },
    {
      "cell_type": "markdown",
      "source": [
        "#5. Why might you use a set instead of a list in Python?\n",
        "#-> Sets are used instead of lists when you need unique elements, faster membership testing, and support for set operations like union, intersection, and difference."
      ],
      "metadata": {
        "id": "blxz--9vjtNQ"
      }
    },
    {
      "cell_type": "markdown",
      "source": [
        "#6. How do tuples ensure data integrity in Python?\n",
        "#-> Tuples ensure data integrity in Python by being immutable, meaning their content cannot be changed once created. This immutability guarantees that the data remains constant and unaltered throughout the program."
      ],
      "metadata": {
        "id": "OBR_TM-ojtKS"
      }
    },
    {
      "cell_type": "markdown",
      "source": [
        "#7. What is a hash table, and how does it relate to dictionaries in Python?\n",
        "#-> A hash table is a data structure that stores key-value pairs using a hash function to compute an index for fast access. In Python, dictionaries use hash tables to efficiently store and retrieve data based on keys.\n",
        "\n",
        "\n",
        "\n",
        "\n",
        "\n",
        "\n",
        "\n",
        "\n",
        "\n",
        "\n",
        "\n",
        "\n",
        "\n",
        "\n",
        "\n",
        "\n",
        "\n"
      ],
      "metadata": {
        "id": "-xhvEItaou37"
      }
    },
    {
      "cell_type": "markdown",
      "source": [
        "#8.   What is a hash table, and how does it relate to dictionaries in Python?\n",
        "#-> A hash table is a data structure that stores key-value pairs using a hash function to compute an index for fast access. In Python, dictionaries use hash tables to efficiently store and retrieve data based on keys."
      ],
      "metadata": {
        "id": "onn-X1JVptnJ"
      }
    },
    {
      "cell_type": "markdown",
      "source": [
        "#9. Can lists contain different data types in Python?\n",
        "#-> Yes, lists in Python can contain elements of different data types. For example, a single list can include integers, strings, floats, and even other lists or objects.\n",
        "\n",
        "* Example"
      ],
      "metadata": {
        "id": "rIIEwAYMreAX"
      }
    },
    {
      "cell_type": "code",
      "source": [
        "my_list = [1, \"hii\", 1.45, [5, 1, 4]]"
      ],
      "metadata": {
        "id": "AaK6mfOtuzJY"
      },
      "execution_count": 35,
      "outputs": []
    },
    {
      "cell_type": "markdown",
      "source": [
        "#10. Explain why strings are immutable in Python?\n",
        "#-> Strings are immutable in Python to enhance efficiency, security, and simplicity, and to allow them to be used as keys in dictionaries and elements in sets."
      ],
      "metadata": {
        "id": "QYSrqej_vNgh"
      }
    },
    {
      "cell_type": "markdown",
      "source": [
        "#11. What advantages do dictionaries offer over lists for certain tasks?\n",
        "#-> Dictionaries offer advantages over lists for tasks that require fast lookups, key-value associations, and flexibility in data storage."
      ],
      "metadata": {
        "id": "XBCTfdblwHej"
      }
    },
    {
      "cell_type": "markdown",
      "source": [
        "#12. Describe a scenario where using a tuple would be preferable over a list?\n",
        "#-> Using a tuple is preferable over a list when you need to store a collection of items that should remain constant and unchangeable, ensuring data integrity."
      ],
      "metadata": {
        "id": "mYcL1KvwwUjq"
      }
    },
    {
      "cell_type": "markdown",
      "source": [
        "#13. How do sets handle duplicate values in Python?\n",
        "#-> Sets in python automatically handle duplicate values by ensuring that each element is unique. When you add an element to a set, Python checks if the element is already present. if it is the element is not added again,effectively removing any duplicates."
      ],
      "metadata": {
        "id": "IzldBRmMwqSG"
      }
    },
    {
      "cell_type": "code",
      "source": [
        "my_set = {1,3, 3, 5, 7}\n",
        "print(my_set)\n",
        "#output: {1, 3, 5, 7}"
      ],
      "metadata": {
        "id": "Mut4sd7SzrTm"
      },
      "execution_count": null,
      "outputs": []
    },
    {
      "cell_type": "markdown",
      "source": [
        "#14. How does the “in” keyword work differently for lists and dictionaries?\n",
        "#->1.  lists: The in keyword checks if a value exists within the list. It iterates through the list and returns True if the value is found, otherwise False.\n"
      ],
      "metadata": {
        "id": "zgHg84dwz3o2"
      }
    },
    {
      "cell_type": "code",
      "source": [
        "my_list = [1, 7, 3, 9]\n",
        "print(7 in my_list)  # Output: True\n",
        "print(4 in my_list)  # Output: False\n"
      ],
      "metadata": {
        "id": "95zFte9F0YaG"
      },
      "execution_count": null,
      "outputs": []
    },
    {
      "cell_type": "markdown",
      "source": [
        "2. dictionaries: The in keyword checks if a key exists within the dictionary. It does not check the values, only the keys."
      ],
      "metadata": {
        "id": "vJOhbZsL0oLL"
      }
    },
    {
      "cell_type": "code",
      "source": [
        "my_dict = {'ADITYA': 'Adi', 'age': 25}\n",
        "print('ADITYA' in my_dict)  # Output: True\n",
        "print('Adi' in my_dict)  # Output: False\n"
      ],
      "metadata": {
        "id": "sDVkf9xY1QGO"
      },
      "execution_count": null,
      "outputs": []
    },
    {
      "cell_type": "markdown",
      "source": [
        "#15. Can you modify the elements of a tuple? Explain why or why not?\n",
        "#-> No, you cannot modify the element of a tuple in python because tuples are immutable.Once a tuple is created, its element cannot be changed added, or removed.This immutability ensures that the data remains constant and unaltered throughout the program."
      ],
      "metadata": {
        "id": "SCvnWKlu1v2C"
      }
    },
    {
      "cell_type": "markdown",
      "source": [
        "#16. what is a nested dictionary,and give an example of its use case?\n",
        "#-> A nested dictionary in Python is a dictionary within a dictionary. It allows you to store complex data structures by using dictionaries as values for keys in another dictionary.\n"
      ],
      "metadata": {
        "id": "bjplT3YV2-zf"
      }
    },
    {
      "cell_type": "code",
      "source": [
        "students = {\n",
        "    'student1': {\n",
        "        'name': 'Aditya',\n",
        "        'age': 18,\n",
        "        'grades': {'math': 95, 'chemistry': 79}\n",
        "    },\n",
        "    'student2': {\n",
        "        'name': 'aryan',\n",
        "        'age': 18,\n",
        "        'grades': {'math': 78, 'chemistry': 88}\n",
        "    }\n",
        "}\n",
        "\n",
        "# Accessing data\n",
        "print(students['student1']['name'])  # Output: Aditya\n",
        "print(students['student2']['grades']['math'])  # Output: 78\n"
      ],
      "metadata": {
        "id": "wZZ_j9Pv4-ps"
      },
      "execution_count": null,
      "outputs": []
    },
    {
      "cell_type": "markdown",
      "source": [
        "#17. Describe the time complexity of accessing elements in a dictionary?\n",
        "#->\n",
        "The time complexity of accessing elements in a dictionary is O(1) on average, meaning it is very fast due to the underlying hash table implementation. In rare worst-case scenarios, it can be O(n) due to hash collisions.\n"
      ],
      "metadata": {
        "id": "6scd0WBH6Bxk"
      }
    },
    {
      "cell_type": "markdown",
      "source": [
        "#18. In what situations are lists preferred over dictionaries?\n",
        "#-> List are preferred over dictionaries when order matters,for simple collections,for easy iteration,and for memory efficency."
      ],
      "metadata": {
        "id": "KJXwb0Nk7DL0"
      }
    },
    {
      "cell_type": "markdown",
      "source": [
        "#19. Why are dictionaries considered unordered, and how does that affect data retrieval?\n",
        "#-> Dictionaries are considered unordered because they do not maintain any specific order for key-value pairs. This affects data retrieval by making it impossible to rely on the order of elements when iterating through a dictionary. Instead, you access values directly using their keys for fast lookups."
      ],
      "metadata": {
        "id": "g1gWjDGc9XPz"
      }
    },
    {
      "cell_type": "markdown",
      "source": [
        "#20. Explain the difference between a list and a dictionary in terms of data retrieva?\n",
        "#-> Lists: Data retrieval is based on the index position of elements. You access elements by their position in the list, which requires knowing the exact index."
      ],
      "metadata": {
        "id": "cnsRHX7D91wU"
      }
    },
    {
      "cell_type": "code",
      "source": [
        "my_list = [1, 2, 0]\n",
        "print(my_list[2])  # Output: 0\n"
      ],
      "metadata": {
        "id": "gUANqlb6-Rpw"
      },
      "execution_count": null,
      "outputs": []
    },
    {
      "cell_type": "markdown",
      "source": [
        "* dictionaries: Data retrieval is based on unique keys. You access values by their associated keys, which allows for fast lookups without needing to know the position."
      ],
      "metadata": {
        "id": "MLRl897k-e5-"
      }
    },
    {
      "cell_type": "code",
      "source": [
        "my_dict = {'a': 50, 'b': 20, 'c': 30}\n",
        "print(my_dict['a'])  # Output: 50\n"
      ],
      "metadata": {
        "id": "Qm3_BwBJ-nT1"
      },
      "execution_count": null,
      "outputs": []
    },
    {
      "cell_type": "markdown",
      "source": [
        "# **\"PRACTICAL QUESTION\"**"
      ],
      "metadata": {
        "id": "j6OD8TLh-4ql"
      }
    },
    {
      "cell_type": "code",
      "source": [
        "#1. Write a code to create a string with your name and print it.\n",
        "\n",
        "\n",
        "my_name = \"Aditya\"\n",
        "print(my_name)\n"
      ],
      "metadata": {
        "colab": {
          "base_uri": "https://localhost:8080/"
        },
        "id": "JOAitl_z_JqN",
        "outputId": "a7f9f982-034f-4c4c-c3f2-10121a585354"
      },
      "execution_count": 41,
      "outputs": [
        {
          "output_type": "stream",
          "name": "stdout",
          "text": [
            "Aditya\n"
          ]
        }
      ]
    },
    {
      "cell_type": "code",
      "source": [
        "#2. Write a code to find the length of the string \"Hello world\"\n",
        "\n",
        "my_string = \"Hello world\"\n",
        "length = len(my_string)\n",
        "print(length)\n"
      ],
      "metadata": {
        "colab": {
          "base_uri": "https://localhost:8080/"
        },
        "id": "NHBi_t4SAwML",
        "outputId": "62d6f695-e028-48b8-d2c0-597e70579692"
      },
      "execution_count": 48,
      "outputs": [
        {
          "output_type": "stream",
          "name": "stdout",
          "text": [
            "11\n"
          ]
        }
      ]
    },
    {
      "cell_type": "code",
      "source": [
        "#3. Write a code to slice the first 3 characters from the string \"Python Programming.\n",
        "\n",
        "my_string = \"python programming\"\n",
        "sliced_string = my_string[:3]\n",
        "print(sliced_string)"
      ],
      "metadata": {
        "colab": {
          "base_uri": "https://localhost:8080/"
        },
        "id": "ORI8DSbrCBst",
        "outputId": "d6d7cf61-1528-4d35-d552-074a808568f3"
      },
      "execution_count": 53,
      "outputs": [
        {
          "output_type": "stream",
          "name": "stdout",
          "text": [
            "pyt\n"
          ]
        }
      ]
    },
    {
      "cell_type": "code",
      "source": [
        "#4. Write a code to convert the string \"hello\" to uppercase.\n",
        "\n",
        "my_string = \"hello\"\n",
        "uppercase_string = my_string.upper()\n",
        "print(uppercase_string)"
      ],
      "metadata": {
        "colab": {
          "base_uri": "https://localhost:8080/"
        },
        "id": "SV0kCxx-C2qv",
        "outputId": "fed542eb-5312-4b16-f09e-75caee731286"
      },
      "execution_count": 61,
      "outputs": [
        {
          "output_type": "stream",
          "name": "stdout",
          "text": [
            "HELLO\n"
          ]
        }
      ]
    },
    {
      "cell_type": "code",
      "source": [
        "#5.  Write a code to replace the word \"apple\" with \"orange\" in the string \"I like apple\"..\n",
        "\n",
        "my_string = \"I like apple\"\n",
        "new_string = my_string.replace(\"apple\", \"orange\")\n",
        "print(new_string)"
      ],
      "metadata": {
        "colab": {
          "base_uri": "https://localhost:8080/"
        },
        "id": "ta46fPjFDqSB",
        "outputId": "0a98ee2d-dec3-4093-9db3-bf35a6599a22"
      },
      "execution_count": 71,
      "outputs": [
        {
          "output_type": "stream",
          "name": "stdout",
          "text": [
            "I like orange\n"
          ]
        }
      ]
    },
    {
      "cell_type": "code",
      "source": [
        "#6. Write a code to create a list with numbers 1 to 5 and print it..\n",
        "\n",
        "\n",
        "my_list = [1, 2, 3, 4, 5]\n",
        "print(my_list)"
      ],
      "metadata": {
        "colab": {
          "base_uri": "https://localhost:8080/"
        },
        "id": "Z__qjloDEDH8",
        "outputId": "1d8fdedf-f7b6-4584-9af7-ca51b6a8a655"
      },
      "execution_count": 74,
      "outputs": [
        {
          "output_type": "stream",
          "name": "stdout",
          "text": [
            "[1, 2, 3, 4, 5]\n"
          ]
        }
      ]
    },
    {
      "cell_type": "code",
      "source": [
        "#7.  Write a code to append the number 10 to the list [1, 2, 3, 4]\n",
        "\n",
        "\n",
        "my_list = [1, 2, 3, 4]\n",
        "my_list.append(10)\n",
        "print(my_list)"
      ],
      "metadata": {
        "colab": {
          "base_uri": "https://localhost:8080/"
        },
        "id": "oaALcjR3EDUZ",
        "outputId": "74e98c7d-f9d1-4876-8b6e-9ee195d88fb9"
      },
      "execution_count": 76,
      "outputs": [
        {
          "output_type": "stream",
          "name": "stdout",
          "text": [
            "[1, 2, 3, 4, 10]\n"
          ]
        }
      ]
    },
    {
      "cell_type": "code",
      "source": [
        "#8. Write a code to remove the number 3 from the list [1, 2, 3, 4, 5]\n",
        "\n",
        "my_list = [1, 2, 3, 4, 5]\n",
        "my_list.remove(3)\n",
        "print(my_list)"
      ],
      "metadata": {
        "colab": {
          "base_uri": "https://localhost:8080/"
        },
        "id": "ON64JCpyEDgh",
        "outputId": "9624d7f6-ec81-4ad1-ccc7-b926124d2595"
      },
      "execution_count": 85,
      "outputs": [
        {
          "output_type": "stream",
          "name": "stdout",
          "text": [
            "[1, 2, 4, 5]\n"
          ]
        }
      ]
    },
    {
      "cell_type": "code",
      "source": [
        "#9. Write a code to access the second element in the list ['a', 'b', 'c', 'd'] :\n",
        "\n",
        "\n",
        "my_list = ['a', 'b', 'c', 'd']\n",
        "second_element = my_list[1]\n",
        "print(second_element)"
      ],
      "metadata": {
        "colab": {
          "base_uri": "https://localhost:8080/"
        },
        "id": "bHSnMd8-EDt8",
        "outputId": "43213ab7-2471-4be6-d037-ba543775cae7"
      },
      "execution_count": 88,
      "outputs": [
        {
          "output_type": "stream",
          "name": "stdout",
          "text": [
            "b\n"
          ]
        }
      ]
    },
    {
      "cell_type": "code",
      "source": [
        "#10. Write a code to reverse the list [10, 20, 30, 40, 50].\n",
        "\n",
        "my_list = [10, 20, 30, 40, 50]\n",
        "reversed_list = my_list[::-1]\n",
        "print(reversed_list)"
      ],
      "metadata": {
        "colab": {
          "base_uri": "https://localhost:8080/"
        },
        "id": "gZ0ecc25JJnO",
        "outputId": "5f5cdbe2-f895-4a07-bbf1-79b787f7abf7"
      },
      "execution_count": 92,
      "outputs": [
        {
          "output_type": "stream",
          "name": "stdout",
          "text": [
            "[50, 40, 30, 20, 10]\n"
          ]
        }
      ]
    },
    {
      "cell_type": "code",
      "source": [
        "#11. Write a code to create a tuple with the elements 10, 20, 30 and print it.\n",
        "\n",
        "\n",
        "my_tuple = (10, 20, 30)\n",
        "print(my_tuple)"
      ],
      "metadata": {
        "colab": {
          "base_uri": "https://localhost:8080/"
        },
        "id": "7JaXPfmaJKFu",
        "outputId": "f473387c-2d9c-45de-df15-c2e10d465bd7"
      },
      "execution_count": 95,
      "outputs": [
        {
          "output_type": "stream",
          "name": "stdout",
          "text": [
            "(10, 20, 30)\n"
          ]
        }
      ]
    },
    {
      "cell_type": "code",
      "source": [
        "#12. Write a code to access the first element of the tuple ('apple', 'banana', 'cherry')\n",
        "\n",
        "\n",
        "my_tuple = ('apple', 'banana', 'cherry')\n",
        "first_element = my_tuple[0]\n",
        "print(first_element)"
      ],
      "metadata": {
        "colab": {
          "base_uri": "https://localhost:8080/"
        },
        "id": "5Iw5B4AxJKTP",
        "outputId": "cb81a9c2-f47c-4024-d547-ae9d77fbf74e"
      },
      "execution_count": 98,
      "outputs": [
        {
          "output_type": "stream",
          "name": "stdout",
          "text": [
            "apple\n"
          ]
        }
      ]
    },
    {
      "cell_type": "code",
      "source": [
        "#13. Write a code to count how many times the number 2 appears in tuple(1, 2, 3. 2, 4, 2)\n",
        "\n",
        "\n",
        "my_tuple = (1, 2, 3, 2, 4, 2)\n",
        "count = my_tuple.count(2)\n",
        "print(count)"
      ],
      "metadata": {
        "colab": {
          "base_uri": "https://localhost:8080/"
        },
        "id": "RJa3x21zJKfk",
        "outputId": "fe5c9d25-535a-48ce-e3c3-b047c4f83da0"
      },
      "execution_count": 103,
      "outputs": [
        {
          "output_type": "stream",
          "name": "stdout",
          "text": [
            "3\n"
          ]
        }
      ]
    },
    {
      "cell_type": "code",
      "source": [
        "#14. Write a code to find the index of the element \"cat\" in the tuple ('dog', 'cat', 'rabbit')\n",
        "\n",
        "\n",
        "my_tuple = ('dog', 'cat', 'rabbit')\n",
        "index_of_cat = my_tuple.index('cat')\n",
        "print(index_of_cat)"
      ],
      "metadata": {
        "colab": {
          "base_uri": "https://localhost:8080/"
        },
        "id": "4S6Vop5lJKqY",
        "outputId": "15821bae-06d8-476c-8506-da2c141d5cdb"
      },
      "execution_count": 107,
      "outputs": [
        {
          "output_type": "stream",
          "name": "stdout",
          "text": [
            "1\n"
          ]
        }
      ]
    },
    {
      "cell_type": "code",
      "source": [
        "#15. Write a code to check if the element \"banana\" is in the tuple('apple', 'orange', 'banana')\n",
        "\n",
        "\n",
        "my_tuple = ('apple', 'orange', 'banana')\n",
        "if 'banana'in my_tuple:\n",
        "    print(\"banana is in the tuple\")\n",
        "else:\n",
        "    print(\"banana is not in the tuple\")"
      ],
      "metadata": {
        "colab": {
          "base_uri": "https://localhost:8080/"
        },
        "id": "-9G9nj7jJK05",
        "outputId": "741c747e-c027-4c22-a544-99dade0b3380"
      },
      "execution_count": 113,
      "outputs": [
        {
          "output_type": "stream",
          "name": "stdout",
          "text": [
            "banana is in the tuple\n"
          ]
        }
      ]
    },
    {
      "cell_type": "code",
      "source": [
        "#16. Write a code to create a set with the elements 1, 2, 3, 4, 5 and print it\n",
        "\n",
        "\n",
        "my_set = {1, 2, 3, 4, 5}\n",
        "print(my_set)"
      ],
      "metadata": {
        "colab": {
          "base_uri": "https://localhost:8080/"
        },
        "id": "vlI7OWbcJLes",
        "outputId": "60210553-bae3-42c9-dfe8-dc7e0de81c2d"
      },
      "execution_count": 116,
      "outputs": [
        {
          "output_type": "stream",
          "name": "stdout",
          "text": [
            "{1, 2, 3, 4, 5}\n"
          ]
        }
      ]
    },
    {
      "cell_type": "code",
      "source": [
        "#17. Write a code to add the element 6 to the set{1, 2, 3, 4}\n",
        "\n",
        "\n",
        "my_set = {1, 2, 3, 4}\n",
        "my_set.add(6)\n",
        "print(my_set)"
      ],
      "metadata": {
        "colab": {
          "base_uri": "https://localhost:8080/"
        },
        "id": "JSCgbxaPJLpA",
        "outputId": "4cca500a-a26b-40c1-93a7-b28485fe4727"
      },
      "execution_count": 120,
      "outputs": [
        {
          "output_type": "stream",
          "name": "stdout",
          "text": [
            "{1, 2, 3, 4, 6}\n"
          ]
        }
      ]
    },
    {
      "cell_type": "code",
      "source": [
        "#18. Write a code to create a tuple with the elements 10, 20, 30 and print it\n",
        "\n",
        "\n",
        "my_tuple = (10, 20, 30)\n",
        "print(my_tuple)"
      ],
      "metadata": {
        "colab": {
          "base_uri": "https://localhost:8080/"
        },
        "id": "ko8IOoozQYrE",
        "outputId": "8332a7ea-f97b-4e5d-8d5b-2fb588b47b2b"
      },
      "execution_count": 123,
      "outputs": [
        {
          "output_type": "stream",
          "name": "stdout",
          "text": [
            "(10, 20, 30)\n"
          ]
        }
      ]
    },
    {
      "cell_type": "code",
      "source": [
        "#19. Write a code to access the first element of the tuple ('apple', 'banana', 'cherry')\n",
        "\n",
        "\n",
        "my_tuple = ('apple', 'banana', 'cherry')\n",
        "first_element = my_tuple(0)\n",
        "print(first_element)"
      ],
      "metadata": {
        "colab": {
          "base_uri": "https://localhost:8080/"
        },
        "id": "8et-LIVOQZDQ",
        "outputId": "f80f6c3d-7513-4fea-86d4-ae3c7d8734fe"
      },
      "execution_count": 126,
      "outputs": [
        {
          "output_type": "stream",
          "name": "stdout",
          "text": [
            "apple\n"
          ]
        }
      ]
    },
    {
      "cell_type": "code",
      "source": [
        "#20. Write a code to count how many times the number 2 appears in the tuple (1, 2, 3, 2, 4, 2)\n",
        "\n",
        "\n",
        "my_tuple = (1, 2, 3, 2, 4, 2)\n",
        "count = my_tuple.count(2)\n",
        "print(count)\n"
      ],
      "metadata": {
        "colab": {
          "base_uri": "https://localhost:8080/"
        },
        "id": "Cs13r-YIQZUn",
        "outputId": "8e2354c3-240d-4e38-91b6-b2257d5bfbae"
      },
      "execution_count": 127,
      "outputs": [
        {
          "output_type": "stream",
          "name": "stdout",
          "text": [
            "3\n"
          ]
        }
      ]
    },
    {
      "cell_type": "code",
      "source": [
        "#21. Write a code to find the index of the element \"cat\" in the tuple ('dog', 'cat', 'rabbit')\n",
        "\n",
        "\n",
        "my_tuple = ('dog', 'cat', 'rabbit')\n",
        "index_of_cat = my_tuple.index('cat')\n",
        "print(index_of_cat)"
      ],
      "metadata": {
        "colab": {
          "base_uri": "https://localhost:8080/"
        },
        "id": "LuLRkuW_QZhv",
        "outputId": "79c1cc85-a535-45d0-8754-68fcb33a5926"
      },
      "execution_count": 128,
      "outputs": [
        {
          "output_type": "stream",
          "name": "stdout",
          "text": [
            "1\n"
          ]
        }
      ]
    },
    {
      "cell_type": "code",
      "source": [
        "#23. Write a code to check if the element \"banana\" is in the tuple ('apple', 'orange', 'banana')\n",
        "\n",
        "\n",
        "my_tuple = ('apple', 'orange', 'banana')\n",
        "if 'banana' in my_tuple:\n",
        "    print(\"banana is in the tuple\")\n",
        "else:\n",
        "    print(\"banana is not in the tuple\")"
      ],
      "metadata": {
        "colab": {
          "base_uri": "https://localhost:8080/"
        },
        "id": "maVzixqZQZvs",
        "outputId": "f4e88087-8f55-413d-8a6f-0c9fade0cee6"
      },
      "execution_count": 130,
      "outputs": [
        {
          "output_type": "stream",
          "name": "stdout",
          "text": [
            "banana is in the tuple\n"
          ]
        }
      ]
    },
    {
      "cell_type": "code",
      "source": [
        "#24. Write a code to create a set with the elements 1, 2, 3, 4, 5 and print it.\n",
        "\n",
        "\n",
        "my_set = {1, 2, 3, 4, 5}\n",
        "print(my_set)"
      ],
      "metadata": {
        "colab": {
          "base_uri": "https://localhost:8080/"
        },
        "id": "lUSncaA8UQHL",
        "outputId": "64ef0d6a-caa4-49b9-c21d-7619c13f9deb"
      },
      "execution_count": 133,
      "outputs": [
        {
          "output_type": "stream",
          "name": "stdout",
          "text": [
            "{1, 2, 3, 4, 5}\n"
          ]
        }
      ]
    }
  ]
}